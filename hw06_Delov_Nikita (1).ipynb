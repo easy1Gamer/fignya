{
 "cells": [
  {
   "cell_type": "markdown",
   "metadata": {
    "id": "Ffq6A2-ifzAA"
   },
   "source": [
    "# Интеллектуальный анализ данных – весна 2025\n",
    "# Домашнее задание 6: классификация текстов"
   ]
  },
  {
   "cell_type": "markdown",
   "metadata": {
    "id": "EPcxtekTA1Sm"
   },
   "source": [
    "Правила:\n",
    "\n",
    "\n",
    "\n",
    "*   Домашнее задание оценивается в 10 баллов.\n",
    "*   Можно использовать без доказательства любые результаты, встречавшиеся на лекциях или семинарах по курсу, если получение этих результатов не является вопросом задания.\n",
    "*  Можно использовать любые свободные источники с *обязательным* указанием ссылки на них.\n",
    "*  Плагиат не допускается. При обнаружении случаев списывания, 0 за работу выставляется всем участникам нарушения, даже если можно установить, кто у кого списал.\n",
    "*  Старайтесь сделать код как можно более оптимальным. В частности, будет штрафоваться использование циклов в тех случаях, когда операцию можно совершить при помощи инструментов библиотек, о которых рассказывалось в курсе.\n",
    "* Если в задании есть вопрос на рассуждение, то за отсутствие ответа на него балл за задание будет снижен вполовину."
   ]
  },
  {
   "cell_type": "markdown",
   "metadata": {
    "id": "itRtFtrOf0_b"
   },
   "source": [
    "В этом домашнем задании вам предстоит построить классификатор текстов.\n",
    "\n",
    "Будем предсказывать эмоциональную окраску твиттов о коронавирусе.\n",
    "\n"
   ]
  },
  {
   "cell_type": "code",
   "execution_count": 1,
   "metadata": {
    "colab": {
     "base_uri": "https://localhost:8080/"
    },
    "id": "tNGRVO7_g9mz",
    "outputId": "59a87df8-dc84-4500-a1db-124318d934bc"
   },
   "outputs": [
    {
     "data": {
      "text/plain": [
       "True"
      ]
     },
     "execution_count": 1,
     "metadata": {},
     "output_type": "execute_result"
    }
   ],
   "source": [
    "import numpy as np\n",
    "import pandas as pd\n",
    "from typing import  List\n",
    "import matplotlib.pyplot as plt\n",
    "import seaborn as sns\n",
    "from string import punctuation\n",
    "import nltk\n",
    "nltk.download(\"stopwords\", quiet=True)"
   ]
  },
  {
   "cell_type": "code",
   "execution_count": 4,
   "metadata": {
    "colab": {
     "base_uri": "https://localhost:8080/",
     "height": 175
    },
    "id": "zOy8iHJQg_Ss",
    "outputId": "e6eadce3-aa0e-41ad-e8c0-fe33584a4d4b"
   },
   "outputs": [
    {
     "data": {
      "text/html": [
       "<div>\n",
       "<style scoped>\n",
       "    .dataframe tbody tr th:only-of-type {\n",
       "        vertical-align: middle;\n",
       "    }\n",
       "\n",
       "    .dataframe tbody tr th {\n",
       "        vertical-align: top;\n",
       "    }\n",
       "\n",
       "    .dataframe thead th {\n",
       "        text-align: right;\n",
       "    }\n",
       "</style>\n",
       "<table border=\"1\" class=\"dataframe\">\n",
       "  <thead>\n",
       "    <tr style=\"text-align: right;\">\n",
       "      <th></th>\n",
       "      <th>UserName</th>\n",
       "      <th>ScreenName</th>\n",
       "      <th>Location</th>\n",
       "      <th>TweetAt</th>\n",
       "      <th>OriginalTweet</th>\n",
       "      <th>Sentiment</th>\n",
       "    </tr>\n",
       "  </thead>\n",
       "  <tbody>\n",
       "    <tr>\n",
       "      <th>19961</th>\n",
       "      <td>28132</td>\n",
       "      <td>73084</td>\n",
       "      <td>Surrey -  UK</td>\n",
       "      <td>26-03-2020</td>\n",
       "      <td>Isn t it interesting that nearly all essential...</td>\n",
       "      <td>Negative</td>\n",
       "    </tr>\n",
       "    <tr>\n",
       "      <th>973</th>\n",
       "      <td>4977</td>\n",
       "      <td>49929</td>\n",
       "      <td>New England, USA</td>\n",
       "      <td>17-03-2020</td>\n",
       "      <td>Went to the grocery store this morning; still ...</td>\n",
       "      <td>Negative</td>\n",
       "    </tr>\n",
       "    <tr>\n",
       "      <th>33264</th>\n",
       "      <td>44725</td>\n",
       "      <td>89677</td>\n",
       "      <td>Kolkata</td>\n",
       "      <td>14-04-2020</td>\n",
       "      <td>@MOFPI_GOI @irvpaswan @ficci_india @PMOIndia @...</td>\n",
       "      <td>Positive</td>\n",
       "    </tr>\n",
       "    <tr>\n",
       "      <th>13750</th>\n",
       "      <td>20489</td>\n",
       "      <td>65441</td>\n",
       "      <td>Cambridge, MA</td>\n",
       "      <td>22-03-2020</td>\n",
       "      <td>President can end price gauging says @DanRathe...</td>\n",
       "      <td>Extremely Positive</td>\n",
       "    </tr>\n",
       "  </tbody>\n",
       "</table>\n",
       "</div>"
      ],
      "text/plain": [
       "       UserName  ScreenName          Location     TweetAt  \\\n",
       "19961     28132       73084     Surrey -  UK   26-03-2020   \n",
       "973        4977       49929  New England, USA  17-03-2020   \n",
       "33264     44725       89677           Kolkata  14-04-2020   \n",
       "13750     20489       65441     Cambridge, MA  22-03-2020   \n",
       "\n",
       "                                           OriginalTweet           Sentiment  \n",
       "19961  Isn t it interesting that nearly all essential...            Negative  \n",
       "973    Went to the grocery store this morning; still ...            Negative  \n",
       "33264  @MOFPI_GOI @irvpaswan @ficci_india @PMOIndia @...            Positive  \n",
       "13750  President can end price gauging says @DanRathe...  Extremely Positive  "
      ]
     },
     "execution_count": 4,
     "metadata": {},
     "output_type": "execute_result"
    }
   ],
   "source": [
    "df = pd.read_csv('tweets_coronavirus.csv', encoding='latin-1')\n",
    "df.sample(4)"
   ]
  },
  {
   "cell_type": "markdown",
   "metadata": {
    "id": "m2OiDog9ZBlS"
   },
   "source": [
    "Для каждого твитта указано:\n",
    "\n",
    "\n",
    "*   UserName - имя пользователя, заменено на целое число для анонимности\n",
    "*   ScreenName - отображающееся имя пользователя, заменено на целое число для анонимности\n",
    "*   Location - местоположение\n",
    "*   TweetAt - дата создания твитта\n",
    "*   OriginalTweet - текст твитта\n",
    "*   Sentiment - эмоциональная окраска твитта (целевая переменная)\n",
    "\n"
   ]
  },
  {
   "cell_type": "markdown",
   "metadata": {
    "id": "pZTMseDkhTC7"
   },
   "source": [
    "## Задание 1 Подготовка (0.5 балла)"
   ]
  },
  {
   "cell_type": "markdown",
   "metadata": {
    "id": "Xx2-odn9hdAW"
   },
   "source": [
    "Целевая переменная находится в колонке `Sentiment`.  Преобразуйте ее таким образом, чтобы она стала бинарной: 1 - если у твитта положительная или очень положительная эмоциональная окраска и 0 - если отрицательная или очень отрицательная."
   ]
  },
  {
   "cell_type": "code",
   "execution_count": 9,
   "metadata": {
    "id": "ZaQKQ1zEjP15"
   },
   "outputs": [],
   "source": [
    "df.loc[df.Sentiment.isin(['Extremely Positive', 'Positive']), 'Sentiment'] = 1\n",
    "df.loc[df.Sentiment.isin(['Extremely Negative', 'Negative']), 'Sentiment'] = 0"
   ]
  },
  {
   "cell_type": "markdown",
   "metadata": {
    "id": "pGq1FxJ-kBo5"
   },
   "source": [
    "Сбалансированы ли классы?"
   ]
  },
  {
   "cell_type": "code",
   "execution_count": 12,
   "metadata": {
    "colab": {
     "base_uri": "https://localhost:8080/",
     "height": 178
    },
    "id": "a7gdNtxckK5V",
    "outputId": "e48e6ae4-51f7-4746-eef3-ae3942e8f014"
   },
   "outputs": [
    {
     "data": {
      "text/plain": [
       "Sentiment\n",
       "1    18046\n",
       "0    15398\n",
       "Name: count, dtype: int64"
      ]
     },
     "execution_count": 12,
     "metadata": {},
     "output_type": "execute_result"
    }
   ],
   "source": [
    "df['Sentiment'].value_counts()"
   ]
  },
  {
   "cell_type": "markdown",
   "metadata": {
    "id": "Ng8BCelMkWb0"
   },
   "source": [
    "**Ответ:** объектов примерно поровну, значит сбалансированны"
   ]
  },
  {
   "cell_type": "markdown",
   "metadata": {
    "id": "qmSIBSsLk5Zz"
   },
   "source": [
    "Выведете на экран информацию о пропусках в данных. Если пропуски присутствуют заполните их строкой 'Unknown'."
   ]
  },
  {
   "cell_type": "code",
   "execution_count": 16,
   "metadata": {
    "colab": {
     "base_uri": "https://localhost:8080/"
    },
    "id": "UhUVRkR5kxa7",
    "outputId": "d0a9044d-cc1c-49a9-a4d7-dc0626b513ad"
   },
   "outputs": [
    {
     "name": "stdout",
     "output_type": "stream",
     "text": [
      "UserName            0\n",
      "ScreenName          0\n",
      "Location         7049\n",
      "TweetAt             0\n",
      "OriginalTweet       0\n",
      "Sentiment           0\n",
      "dtype: int64\n"
     ]
    }
   ],
   "source": [
    "print(df.isna().sum()) # видим много пропусков в Location\n",
    "df.loc[df.Location.isnull(), 'Location'] = 'Unknown'"
   ]
  },
  {
   "cell_type": "markdown",
   "metadata": {
    "id": "1tzt27tfjUpq"
   },
   "source": [
    "Разделите данные на обучающие и тестовые в соотношении 7 : 3 и укажите `random_state=0`"
   ]
  },
  {
   "cell_type": "code",
   "execution_count": 19,
   "metadata": {
    "id": "xSLOA9tIj9Z6"
   },
   "outputs": [],
   "source": [
    "from sklearn.model_selection import train_test_split\n",
    "\n",
    "train, test = train_test_split(df, test_size=0.3, random_state=0)"
   ]
  },
  {
   "cell_type": "markdown",
   "metadata": {
    "id": "J9RrPUsJlL60"
   },
   "source": [
    "## Задание 2 Токенизация (3 балла)"
   ]
  },
  {
   "cell_type": "markdown",
   "metadata": {
    "id": "2Dz_b7Xopc_R"
   },
   "source": [
    "Постройте словарь на основе обучающей выборки и посчитайте количество встреч каждого токена с использованием самой простой токенизации - деления текстов по пробельным символам и приведения токенов в нижний регистр."
   ]
  },
  {
   "cell_type": "code",
   "execution_count": 91,
   "metadata": {
    "id": "SFr67WOJphny"
   },
   "outputs": [
    {
     "data": {
      "text/plain": [
       "array([array(['Why', 'we', 'still', 'want', 'to', 'buy', 'so', 'much', 'stuff',\n",
       "              'during', 'quarantine', 'https://t.co/1m881CwFUv', '#shopping',\n",
       "              '#Covid_19', '#Online'], dtype='<U23')                           ,\n",
       "       array(['With', 'driving', 'even', 'more', 'usage', 'a', 'strong',\n",
       "              'strategy', 'is', 'critical', 'now', 'more', 'then', 'ever',\n",
       "              'Luckily', 'and', 'April', '16', 'webinar', 'will', 'dive', 'into',\n",
       "              'growing', 'app', 'awareness', 'and', 'targeting', 'high',\n",
       "              'lifetime', 'value', 'users'], dtype='<U9')                        ,\n",
       "       array(['@Canon_India', 'I', 'am', 'very', 'happy..', 'Great', 'job', 'by',\n",
       "              '@Canon_India', '#CanonForCommunity', 'https://t.co/Z0intkS34x'],\n",
       "             dtype='<U23')                                                       ,\n",
       "       ...,\n",
       "       array(['An', 'initiative', 'taken', 'by', 'our', '@GOLDENINITIATI1', 'at',\n",
       "              'khopoli,', 'Maharastra,', 'distributing', 'hand', 'sanitizer',\n",
       "              '&amp;', 'Mask', 'for', 'protection', 'of', 'this', 'warriors',\n",
       "              'from', '#coronavirus', 'Lets', 'salute', 'this', 'warriors',\n",
       "              'bottom', 'of', 'our', 'heart', '#coronavirusinindia',\n",
       "              '@srinivasiyc', '@AUThackeray', '@CMOMaharashtra',\n",
       "              'https://t.co/IAEK4fWsgz'], dtype='<U23')                          ,\n",
       "       array(['Vile', 'premiership', 'players', 'demanding', 'full', 'wages',\n",
       "              'leaving', 'clubs', 'furloughing', 'non-playing', 'staff', 'so',\n",
       "              'the', 'taxpayer', 'can', 'subsidise', 'their',\n",
       "              'playersÃ\\x82Â\\x92', 'obscene', 'wages.', 'I', 'wonÃ\\x82Â\\x92t',\n",
       "              'be', 'going', 'back', 'or', 'renewing', 'Sky', 'package',\n",
       "              '#coronavirus', '-', 'as', 'heroic', 'supermarket', 'workers',\n",
       "              'keeping', 'us', 'fed', 'are', 'paid', 'minimum', 'wage!'],\n",
       "             dtype='<U12')                                                    ,\n",
       "       array(['Just', 'wondering', 'why', 'we', 'arenÃ\\x82Â\\x92t', 'screening',\n",
       "              'at', 'the', 'airport?', 'My', 'brother', 'just', 'flew', 'back',\n",
       "              'from', 'NZ', 'through', 'La', 'and', 'absolutely', 'nothing...',\n",
       "              'He', 'thankfully', 'is', 'going', 'to', 'quarantine', 'right',\n",
       "              'away', 'but', 'some', 'people', 'are', 'going', 'straight', 'to',\n",
       "              'the', 'grocery', 'store', '@TorontoPearson', '@JustinTrudeau',\n",
       "              '#COVID2019', '@680NEWS', 'https://t.co/7j2Y3rSld9'], dtype='<U23')],\n",
       "      dtype=object)"
      ]
     },
     "execution_count": 91,
     "metadata": {},
     "output_type": "execute_result"
    }
   ],
   "source": [
    "train_splitted = train.OriginalTweet.apply(lambda x: np.array(x.split()))\n",
    "tokens = train_splitted.to_numpy()\n",
    "tokens"
   ]
  },
  {
   "cell_type": "code",
   "execution_count": 93,
   "metadata": {
    "id": "CZYoXNWTjThF"
   },
   "outputs": [
    {
     "data": {
      "text/plain": [
       "array(['why', 'we', 'still', ..., '#covid2019', '@680news',\n",
       "       'https://t.co/7j2y3rsld9'], dtype='<U252')"
      ]
     },
     "execution_count": 93,
     "metadata": {},
     "output_type": "execute_result"
    }
   ],
   "source": [
    "tokens = np.char.lower(np.concatenate(tokens))\n",
    "tokens"
   ]
  },
  {
   "cell_type": "code",
   "execution_count": 38,
   "metadata": {
    "id": "MsJcbWwVlZTa"
   },
   "outputs": [],
   "source": [
    "unique_values, counts = np.unique(tokens, return_counts=True)\n",
    "indexes = np.argsort(-counts).tolist()\n",
    "sorted_value_counts = dict(zip(unique_values[indexes].tolist(), counts[indexes].tolist()))\n",
    "\n"
   ]
  },
  {
   "cell_type": "code",
   "execution_count": 39,
   "metadata": {
    "colab": {
     "base_uri": "https://localhost:8080/"
    },
    "id": "duoxtKNVo30G",
    "outputId": "8187c045-1a99-4d58-c01f-115d286b19e4"
   },
   "outputs": [
    {
     "data": {
      "text/plain": [
       "array(['!', '!!', '!!!', '!!!!', '!!!!!!', '!!!!!!!!', '!!!!!?????',\n",
       "       '!!!???', '!#somegoodnews', '!).'], dtype='<U252')"
      ]
     },
     "execution_count": 39,
     "metadata": {},
     "output_type": "execute_result"
    }
   ],
   "source": [
    "unique_values[:10]"
   ]
  },
  {
   "cell_type": "markdown",
   "metadata": {
    "id": "Pe0h2Jqkpnao"
   },
   "source": [
    "Какой размер словаря получился?"
   ]
  },
  {
   "cell_type": "code",
   "execution_count": 41,
   "metadata": {
    "colab": {
     "base_uri": "https://localhost:8080/"
    },
    "id": "umyENA7EpokD",
    "outputId": "7e4ca14f-821b-43a0-d915-77cc0c9f7238"
   },
   "outputs": [
    {
     "data": {
      "text/plain": [
       "79755"
      ]
     },
     "execution_count": 41,
     "metadata": {},
     "output_type": "execute_result"
    }
   ],
   "source": [
    "len(sorted_value_counts) #79755"
   ]
  },
  {
   "cell_type": "markdown",
   "metadata": {
    "id": "0d2G1Z-Qpqkd"
   },
   "source": [
    "Выведите 10 самых популярных токенов с количеством встреч каждого из них. Объясните, почему именно эти токены в топе."
   ]
  },
  {
   "cell_type": "code",
   "execution_count": 44,
   "metadata": {
    "colab": {
     "base_uri": "https://localhost:8080/"
    },
    "id": "Impi32a_pssg",
    "outputId": "bfc5174c-6c7d-466f-eb4c-214c527957d6"
   },
   "outputs": [
    {
     "name": "stdout",
     "output_type": "stream",
     "text": [
      "('the', 26815)\n",
      "('to', 23373)\n",
      "('and', 14684)\n",
      "('of', 13012)\n",
      "('a', 11737)\n",
      "('in', 11198)\n",
      "('for', 8566)\n",
      "('#coronavirus', 8223)\n",
      "('is', 7383)\n",
      "('are', 7050)\n"
     ]
    }
   ],
   "source": [
    "res = zip(list(sorted_value_counts)[:10], list(sorted_value_counts.values())[:10])\n",
    "print(*res, sep='\\n')"
   ]
  },
  {
   "cell_type": "markdown",
   "metadata": {
    "id": "ZtuJCD0ApuFd"
   },
   "source": [
    "**Ответ:** здесь все слова - служебные части речи, которые встречаются в предложениях вне зависимости от смысла, просто для связи, они необходимы (стоп-слова в общем). кроме того в топе #coronavirus, так как наша выборка твитов объединена общей темой - короновируса"
   ]
  },
  {
   "cell_type": "markdown",
   "metadata": {
    "id": "T7DTQDkWsVYp"
   },
   "source": [
    "Удалите стоп-слова из словаря и выведите новый топ-10 токенов (и количество встреч) по популярности.  Что можно сказать  о нем?"
   ]
  },
  {
   "cell_type": "code",
   "execution_count": 47,
   "metadata": {
    "colab": {
     "base_uri": "https://localhost:8080/"
    },
    "id": "8csSAdgTsnFx",
    "outputId": "7128bda8-0db9-4e9a-b872-a6e7026e98fe"
   },
   "outputs": [
    {
     "name": "stdout",
     "output_type": "stream",
     "text": [
      "('#coronavirus', 8223)\n",
      "('prices', 3891)\n",
      "('food', 3820)\n",
      "('grocery', 3469)\n",
      "('supermarket', 3288)\n",
      "('people', 3175)\n",
      "('covid-19', 3173)\n",
      "('store', 3155)\n",
      "('#covid19', 2471)\n",
      "('&amp;', 2314)\n"
     ]
    }
   ],
   "source": [
    "from nltk.corpus import stopwords\n",
    "\n",
    "for i in stopwords.words('english'):\n",
    "  try:\n",
    "    sorted_value_counts.pop(i)\n",
    "  except KeyError:\n",
    "    pass\n",
    "res = zip(list(sorted_value_counts)[:10], list(sorted_value_counts.values())[:10])\n",
    "print(*res, sep='\\n')"
   ]
  },
  {
   "cell_type": "markdown",
   "metadata": {
    "id": "LZH0x2Lzs-Dh"
   },
   "source": [
    "**Ответ:**  теперь люди пишут о еде, ценах и магазинах, а также о короновирусе, с помощью разных синонимов. + добавился служебный символ. все логично, ведь в условиях самоизоляции возникла проблема невозможности ходить в магазин и все стали закупаться"
   ]
  },
  {
   "cell_type": "markdown",
   "metadata": {
    "id": "TKSGRyI-uor0"
   },
   "source": [
    "Также выведите 20 самых непопулярных слов (если самых непопулярных слов больше, выведите любые 20 из них) Почему эти токены непопулярны, требуется ли как-то дополнительно работать с ними?"
   ]
  },
  {
   "cell_type": "code",
   "execution_count": 55,
   "metadata": {
    "colab": {
     "base_uri": "https://localhost:8080/"
    },
    "id": "moArbwfvun9t",
    "outputId": "6cb2b88c-af47-4f63-8e66-a6f7a1476da0"
   },
   "outputs": [
    {
     "name": "stdout",
     "output_type": "stream",
     "text": [
      "('court-', 1)\n",
      "('court.....', 1)\n",
      "('courteous,;', 1)\n",
      "('courtesy,', 1)\n",
      "('courts.', 1)\n",
      "('cousin,', 1)\n",
      "('cousins,', 1)\n",
      "('covenant-keeping..', 1)\n",
      "('covent', 1)\n",
      "('coventry', 1)\n",
      "('cover.', 1)\n",
      "('cover:', 1)\n",
      "('coverage:', 1)\n",
      "('covered!', 1)\n",
      "('covered..', 1)\n",
      "('covered?', 1)\n",
      "('covering,', 1)\n",
      "('covering.', 1)\n",
      "('coversation', 1)\n",
      "('ã\\x83â¼berweist', 1)\n"
     ]
    }
   ],
   "source": [
    "res = zip(list(sorted_value_counts)[-20:], list(sorted_value_counts.values())[-20:])\n",
    "print(*res, sep='\\n')"
   ]
  },
  {
   "cell_type": "markdown",
   "metadata": {
    "id": "uRp3J1gQunlR"
   },
   "source": [
    "**Ответ:** некоторые малоосмысленны, некоторые содеражат лишние символы, можно токены второго типа подправить и убрать эти лишние символы, но в целом можно их игнорировать - просто погрешность"
   ]
  },
  {
   "cell_type": "markdown",
   "metadata": {
    "id": "wx9LQOSPzvjV"
   },
   "source": [
    "Теперь воспользуемся токенайзером получше - TweetTokenizer из библиотеки nltk. Примените его и посмотрите на топ-10 популярных слов. Чем он отличается от топа, который получался раньше? Почему?"
   ]
  },
  {
   "cell_type": "code",
   "execution_count": 59,
   "metadata": {
    "id": "2G1UkyVxzvFY"
   },
   "outputs": [],
   "source": [
    "from nltk.tokenize import TweetTokenizer\n",
    "tk = TweetTokenizer(preserve_case = False)\n",
    "tw_train_splitted = train.OriginalTweet.apply(lambda x: np.array(tk.tokenize(x)))\n",
    "tw_tokens = tw_train_splitted.to_numpy()\n",
    "tw_tokens = np.concatenate(tw_tokens)\n",
    "tw_unique_values, tw_counts = np.unique(tw_tokens, return_counts=True)\n",
    "tw_indexes = np.argsort(-tw_counts).tolist()\n",
    "tw_sorted_value_counts = dict(zip(tw_unique_values[tw_indexes].tolist(), tw_counts[tw_indexes].tolist()))\n",
    "\n"
   ]
  },
  {
   "cell_type": "code",
   "execution_count": 60,
   "metadata": {
    "colab": {
     "base_uri": "https://localhost:8080/"
    },
    "id": "EtoW_y-N0ESu",
    "outputId": "4791da82-871c-4705-b4ab-e52e8fc77f55"
   },
   "outputs": [
    {
     "name": "stdout",
     "output_type": "stream",
     "text": [
      "('the', 26993)\n",
      "('.', 24118)\n",
      "('to', 23478)\n",
      "(',', 17571)\n",
      "('and', 14825)\n",
      "('of', 13044)\n",
      "('a', 11891)\n",
      "('in', 11348)\n",
      "('?', 9524)\n",
      "('#coronavirus', 8808)\n"
     ]
    }
   ],
   "source": [
    "res = zip(list(tw_sorted_value_counts)[:10], list(tw_sorted_value_counts.values())[:10])\n",
    "print(*res, sep='\\n')"
   ]
  },
  {
   "cell_type": "markdown",
   "metadata": {
    "id": "50eVUnJN1Zxl"
   },
   "source": [
    "**Ответ:** теперь в топе есть отдельные пунктуационнные символы, ведь редко кто отделяет их пробелом от слова"
   ]
  },
  {
   "cell_type": "markdown",
   "metadata": {
    "id": "1gqQgiMs11bs"
   },
   "source": [
    "Удалите из словаря стоп-слова и пунктуацию, посмотрите на новый топ-10 слов с количеством встреч, есть ли теперь в нем что-то не похожее на слова?"
   ]
  },
  {
   "cell_type": "code",
   "execution_count": 65,
   "metadata": {
    "colab": {
     "base_uri": "https://localhost:8080/"
    },
    "id": "0yHWdFrp0Mup",
    "outputId": "c51b5ae9-d286-418f-925d-0976f7611b8f"
   },
   "outputs": [
    {
     "name": "stdout",
     "output_type": "stream",
     "text": [
      "('#coronavirus', 8808)\n",
      "('â', 7415)\n",
      "('\\x82', 7311)\n",
      "('19', 7167)\n",
      "('covid', 6253)\n",
      "('prices', 4601)\n",
      "('\\x92', 4372)\n",
      "('food', 4367)\n",
      "('store', 3877)\n",
      "('supermarket', 3805)\n"
     ]
    }
   ],
   "source": [
    "from string import punctuation\n",
    "\n",
    "trash = stopwords.words('english') + list(punctuation)\n",
    "for i in trash:\n",
    "  try:\n",
    "    tw_sorted_value_counts.pop(i)\n",
    "  except KeyError:\n",
    "    pass\n",
    "res = zip(list(tw_sorted_value_counts)[:10], list(tw_sorted_value_counts.values())[:10])\n",
    "print(*res, sep='\\n')"
   ]
  },
  {
   "cell_type": "markdown",
   "metadata": {
    "id": "8ZJqXELP_Yxy"
   },
   "source": [
    "**Ответ:** опять еда и короновирус, но есть и непонятные символы"
   ]
  },
  {
   "cell_type": "markdown",
   "metadata": {
    "id": "rzXjMsSB_kXB"
   },
   "source": [
    "Скорее всего в некоторых топах были неотображаемые символы или отдельные буквы не латинского алфавита. Уберем их: удалите из словаря токены из одного символа, позиция которого в таблице Unicode 128 и более (`ord(x) >= 128`)\n",
    "\n",
    "Выведите топ-10 самых популярных и топ-20 непопулярных слов. Чем полученные топы отличаются от итоговых топов, полученных при использовании токенизации по пробелам? Что теперь лучше, а что хуже?"
   ]
  },
  {
   "cell_type": "code",
   "execution_count": 69,
   "metadata": {
    "id": "1695hlkS_1-J"
   },
   "outputs": [],
   "source": [
    "s = list(tw_sorted_value_counts.keys())[:]\n",
    "for i in s:\n",
    "  if len(i) == 1 and ord(i)>=128:\n",
    "    tw_sorted_value_counts.pop(i)\n"
   ]
  },
  {
   "cell_type": "code",
   "execution_count": 71,
   "metadata": {
    "colab": {
     "base_uri": "https://localhost:8080/"
    },
    "id": "QokPo81WuV7h",
    "outputId": "691ebd3f-7434-4350-94b1-1c67db2dddcf"
   },
   "outputs": [
    {
     "name": "stdout",
     "output_type": "stream",
     "text": [
      "('#coronavirus', 8808)\n",
      "('19', 7167)\n",
      "('covid', 6253)\n",
      "('prices', 4601)\n",
      "('food', 4367)\n",
      "('store', 3877)\n",
      "('supermarket', 3805)\n",
      "('grocery', 3523)\n",
      "('people', 3463)\n",
      "('#covid19', 2589)\n"
     ]
    }
   ],
   "source": [
    "res = zip(list(tw_sorted_value_counts)[:10], list(tw_sorted_value_counts.values())[:10])\n",
    "print(*res, sep='\\n')"
   ]
  },
  {
   "cell_type": "code",
   "execution_count": 73,
   "metadata": {
    "colab": {
     "base_uri": "https://localhost:8080/"
    },
    "id": "I88wOuN7ucOq",
    "outputId": "ded0ecaa-5ef3-4aeb-d84d-d55bdf876c32"
   },
   "outputs": [
    {
     "name": "stdout",
     "output_type": "stream",
     "text": [
      "('court-', 1)\n",
      "('court.....', 1)\n",
      "('courteous,;', 1)\n",
      "('courtesy,', 1)\n",
      "('courts.', 1)\n",
      "('cousin,', 1)\n",
      "('cousins,', 1)\n",
      "('covenant-keeping..', 1)\n",
      "('covent', 1)\n",
      "('coventry', 1)\n",
      "('cover.', 1)\n",
      "('cover:', 1)\n",
      "('coverage:', 1)\n",
      "('covered!', 1)\n",
      "('covered..', 1)\n",
      "('covered?', 1)\n",
      "('covering,', 1)\n",
      "('covering.', 1)\n",
      "('coversation', 1)\n",
      "('ã\\x83â¼berweist', 1)\n"
     ]
    }
   ],
   "source": [
    "res = zip(list(sorted_value_counts)[-20:], list(sorted_value_counts.values())[-20:])\n",
    "print(*res, sep='\\n')"
   ]
  },
  {
   "cell_type": "markdown",
   "metadata": {
    "id": "KzjHAKIlDvc6"
   },
   "source": [
    "**Ответ:** теперь в топе нет мусора в виде амперсанта, но в антитопе изменений мало, ведь мы удалили только односимвольные проблемные токены."
   ]
  },
  {
   "cell_type": "markdown",
   "metadata": {
    "id": "EcDf9_6HB2zm"
   },
   "source": [
    "Выведите топ-10 популярных хештегов (токены, первые символы которых - #) с количеством встреч. Что можно сказать о них?"
   ]
  },
  {
   "cell_type": "code",
   "execution_count": 77,
   "metadata": {
    "colab": {
     "base_uri": "https://localhost:8080/"
    },
    "id": "zk4fygCUBw3l",
    "outputId": "50360d68-361f-433c-c4d8-c3777f83f161"
   },
   "outputs": [
    {
     "name": "stdout",
     "output_type": "stream",
     "text": [
      "('#coronavirus', 8808)\n",
      "('#covid19', 2589)\n",
      "('#covid_19', 1734)\n",
      "('#covid2019', 946)\n",
      "('#toiletpaper', 744)\n",
      "('#covid', 641)\n",
      "('#socialdistancing', 465)\n",
      "('#coronacrisis', 448)\n",
      "('#pandemic', 257)\n",
      "('#coronaviruspandemic', 249)\n"
     ]
    }
   ],
   "source": [
    "hashtags = dict()\n",
    "for i in tw_sorted_value_counts.keys():\n",
    "  if i[0] == '#':\n",
    "    hashtags[i] = tw_sorted_value_counts[i]\n",
    "res = zip(list(hashtags)[:10], list(hashtags.values())[:10])\n",
    "print(*res, sep='\\n')"
   ]
  },
  {
   "cell_type": "markdown",
   "metadata": {
    "id": "-6NeNWBkDxM7"
   },
   "source": [
    "**Ответ:** хэштеги соответсвтвюут времени, коронавирус (разные названия), основные проблемы - туалетная бумага и самоизоляция"
   ]
  },
  {
   "cell_type": "markdown",
   "metadata": {
    "id": "LLYBg7caD5GA"
   },
   "source": [
    "То же самое проделайте для ссылок на сайт https://t.co Сравнима ли популярность ссылок с популярностью хештегов? Будет ли информация о ссылке на конкретную страницу полезна?"
   ]
  },
  {
   "cell_type": "code",
   "execution_count": 81,
   "metadata": {
    "colab": {
     "base_uri": "https://localhost:8080/"
    },
    "id": "MXbm1oeaCK9S",
    "outputId": "84dd9f38-8949-44a4-d98d-0d545266d1d2"
   },
   "outputs": [
    {
     "name": "stdout",
     "output_type": "stream",
     "text": [
      "('https://t.co/oXA7SWtoNd', 5)\n",
      "('https://t.co/gP3EusapL8', 4)\n",
      "('https://t.co/3GBBDpdjat', 3)\n",
      "('https://t.co/WrLHYzIzAA', 3)\n",
      "('https://t.co/DefTruI1PfÃ\\x82Â', 3)\n",
      "('https://t.co/WuiEEfSNOj', 3)\n",
      "('https://t.co/kuwIpF1KQW', 3)\n",
      "('https://t.co/zjNRx6dKKN', 3)\n",
      "('https://t.co/G63RP042HO', 3)\n",
      "('https://t.co/AZIqCdgrNn', 3)\n"
     ]
    }
   ],
   "source": [
    "links= dict()\n",
    "for i in tw_sorted_value_counts.keys():\n",
    "  if i[:12] == 'https://t.co':\n",
    "    links[i] = tw_sorted_value_counts[i]\n",
    "res = zip(list(links)[:10], list(links.values())[:10])\n",
    "print(*res, sep='\\n')"
   ]
  },
  {
   "cell_type": "markdown",
   "metadata": {
    "id": "at6lRYZ8A07N"
   },
   "source": [
    "**Ответ:** хэштегов тысячи, а ссылок единицы - ссылки полезны, так как это более специфичная информация, но это очень избирательный способ проверки, нужно более глобальное разделение чем выделение нескольких конкретных твитов"
   ]
  },
  {
   "cell_type": "markdown",
   "metadata": {
    "id": "IOGdUU1kBU1D"
   },
   "source": [
    "Используем опыт предыдущих экспериментов и напишем собственный токенайзер, улучшив TweetTokenizer. Функция tokenize должна:\n",
    "\n",
    "\n",
    "\n",
    "*   Привести текст в нижний регистр\n",
    "*   Применить TweetTokenizer для  выделения токенов\n",
    "*   Удалить стоп-слова, пунктуацию, токены из одного символа с позицией в таблице Unicode 128 и более,  ссылки на t.co\n",
    "\n"
   ]
  },
  {
   "cell_type": "code",
   "execution_count": 98,
   "metadata": {
    "id": "ctEsB6xkFrrK"
   },
   "outputs": [],
   "source": [
    "def custom_tokenizer(text):\n",
    "\n",
    "  tk = TweetTokenizer(preserve_case = False)\n",
    "  tokens = tk.tokenize(text)\n",
    "  trash = stopwords.words('english') + list(punctuation)\n",
    "  for i in trash:\n",
    "    while i in tokens:\n",
    "      tokens.remove(i)\n",
    "  for i in tokens[:]:\n",
    "    if len(i) == 1 and ord(i)>=128:\n",
    "      tokens.remove(i)\n",
    "  for i in tokens[:]:\n",
    "    if i[:12] == 'https://t.co':\n",
    "      tokens.remove(i)\n",
    "  return tokens\n"
   ]
  },
  {
   "cell_type": "code",
   "execution_count": 99,
   "metadata": {
    "colab": {
     "base_uri": "https://localhost:8080/"
    },
    "id": "XwbgtYkJGYym",
    "outputId": "8c127fe4-58ac-4445-8c65-e5c426ece60a"
   },
   "outputs": [
    {
     "data": {
      "text/plain": [
       "['sample', 'text', '@sample_text', '#sampletext']"
      ]
     },
     "execution_count": 99,
     "metadata": {},
     "output_type": "execute_result"
    }
   ],
   "source": [
    "custom_tokenizer('This is sample text!!!! @Sample_text I, \\x92\\x92 https://t.co/sample  #sampletext')"
   ]
  },
  {
   "cell_type": "markdown",
   "metadata": {
    "id": "wURVABmXHk97"
   },
   "source": [
    "## Задание 3 Векторизация текстов (2 балла)"
   ]
  },
  {
   "cell_type": "markdown",
   "metadata": {
    "id": "H44iXkoHIQfN"
   },
   "source": [
    "Обучите CountVectorizer с использованием custom_tokenizer в качестве токенайзера. Как размер полученного словаря соотносится с размером изначального словаря из начала задания 2?"
   ]
  },
  {
   "cell_type": "code",
   "execution_count": 102,
   "metadata": {
    "colab": {
     "base_uri": "https://localhost:8080/"
    },
    "id": "gHn_limQl3BI",
    "outputId": "b8e21a9e-264d-4b7d-bac6-d7ac6041bff3"
   },
   "outputs": [
    {
     "name": "stderr",
     "output_type": "stream",
     "text": [
      "C:\\Users\\1\\anaconda3\\Lib\\site-packages\\sklearn\\feature_extraction\\text.py:525: UserWarning: The parameter 'token_pattern' will not be used since 'tokenizer' is not None'\n",
      "  warnings.warn(\n"
     ]
    },
    {
     "name": "stdout",
     "output_type": "stream",
     "text": [
      "45290\n"
     ]
    }
   ],
   "source": [
    "from sklearn.feature_extraction.text import CountVectorizer\n",
    "\n",
    "cv = CountVectorizer(tokenizer=custom_tokenizer)\n",
    "X = cv.fit_transform(train.OriginalTweet)\n",
    "print(len(cv.vocabulary_))\n",
    "# 45290"
   ]
  },
  {
   "cell_type": "markdown",
   "metadata": {
    "id": "gsfmaSGoItUm"
   },
   "source": [
    "**Ответ:** словарь практически вдвое меньше стал, так как выкинули много мусора в нашем кастомном токенизаторе"
   ]
  },
  {
   "cell_type": "markdown",
   "metadata": {
    "id": "lm6UHNmqKZT0"
   },
   "source": [
    "Посмотрим на какой-нибудь конкретный твитт:"
   ]
  },
  {
   "cell_type": "code",
   "execution_count": 107,
   "metadata": {
    "colab": {
     "base_uri": "https://localhost:8080/"
    },
    "id": "aJVjjfqOJh8m",
    "outputId": "a75ce4f0-9a7a-4523-8831-066ab688e42d"
   },
   "outputs": [
    {
     "data": {
      "text/plain": [
       "('Nice one @SkyNews lets not panic but show ppl in france queueing for food!!! #CoronavirusOutbreak #COVID2019 brainless!! Ffs',\n",
       " 0)"
      ]
     },
     "execution_count": 107,
     "metadata": {},
     "output_type": "execute_result"
    }
   ],
   "source": [
    "ind = 9023\n",
    "train.iloc[ind]['OriginalTweet'], train.iloc[ind]['Sentiment']"
   ]
  },
  {
   "cell_type": "markdown",
   "metadata": {
    "id": "PBMIHBI5KdaS"
   },
   "source": [
    "Автор твитта не доволен ситуацией с едой во Франции и текст имеет резко негативную окраску.\n",
    "\n",
    "Примените обученный CountVectorizer для векторизации данного текста, и попытайтесь определить самый важный токен и самый неважный токен (токен, компонента которого в векторе максимальна/минимальна, без учета 0). Хорошо ли они определились, почему?"
   ]
  },
  {
   "cell_type": "code",
   "execution_count": 119,
   "metadata": {
    "colab": {
     "base_uri": "https://localhost:8080/"
    },
    "id": "7NcAllaEKsJj",
    "outputId": "8e58325c-d605-4ebb-f2e2-856ce714b7cc"
   },
   "outputs": [
    {
     "data": {
      "text/plain": [
       "('#coronavirusoutbreak', '#coronavirusoutbreak')"
      ]
     },
     "execution_count": 119,
     "metadata": {},
     "output_type": "execute_result"
    }
   ],
   "source": [
    "text= \" \".join([w for w in custom_tokenizer(train.iloc[ind]['OriginalTweet'])])\n",
    "text = cv.transform([text])\n",
    "text_without_zeros = np.where(text.toarray() == 0, np.inf, text.toarray())\n",
    "list(cv.get_feature_names_out())[np.argmin(text_without_zeros)], list(cv.get_feature_names_out())[np.argmax(text.toarray())]\n"
   ]
  },
  {
   "cell_type": "markdown",
   "metadata": {
    "id": "TpEsl1k_NF4T"
   },
   "source": [
    "**Ответ:** он выбрал одинаковые слова, так как все слова здесь повторяются по одному разу и по сути это рандомные слова - плохо"
   ]
  },
  {
   "cell_type": "markdown",
   "metadata": {
    "id": "w4DsEQpLO3J6"
   },
   "source": [
    "Теперь примените TfidfVectorizer и  определите самый важный/неважный токены. Хорошо ли определились, почему?"
   ]
  },
  {
   "cell_type": "code",
   "execution_count": 29,
   "metadata": {
    "id": "uSNzdK3ENGB3"
   },
   "outputs": [],
   "source": [
    "from sklearn.feature_extraction.text import TfidfVectorizer\n",
    "\n",
    "tfidf_vec = TfidfVectorizer(tokenizer=custom_tokenizer)\n",
    "X = tfidf_vec.fit_transform(train.OriginalTweet)\n"
   ]
  },
  {
   "cell_type": "code",
   "execution_count": 30,
   "metadata": {
    "colab": {
     "base_uri": "https://localhost:8080/"
    },
    "id": "JRt7hDh9lRhL",
    "outputId": "cd036662-b923-4ec5-bc2a-ae57feaa2aac"
   },
   "outputs": [
    {
     "data": {
      "text/plain": [
       "('food', 'brainless')"
      ]
     },
     "execution_count": 30,
     "metadata": {},
     "output_type": "execute_result"
    }
   ],
   "source": [
    "text= \" \".join([w for w in custom_tokenizer(train.iloc[ind]['OriginalTweet'])])\n",
    "text = tfidf_vec.transform([text])\n",
    "text_without_zeros = np.where(text.toarray() == 0, np.inf, text.toarray())\n",
    "list(tfidf_vec.get_feature_names_out())[np.argmin(text_without_zeros)], list(tfidf_vec.get_feature_names_out())[np.argmax(text.toarray())]\n"
   ]
  },
  {
   "cell_type": "markdown",
   "metadata": {
    "id": "NYao_UhqQADm"
   },
   "source": [
    "**Ответ:** он хорошо выбрал слово brainless, которое явно указывает на эмоциональную окраску, и вполне неплохо выбрал food - нейтральное слово. так получилось, потому что food встречается в большом количестве текстов, а brainless наоборот"
   ]
  },
  {
   "cell_type": "markdown",
   "metadata": {
    "id": "LGRJPqfWSesQ"
   },
   "source": [
    "Найдите какой-нибудь положительно окрашенный твитт, где TfidfVectorizer хорошо (полезно для определения окраски) выделяет важный токен, поясните пример.\n",
    "\n",
    "*Подсказка:* явно положительные твитты можно искать при помощи положительных слов (good, great, amazing и т. д.)"
   ]
  },
  {
   "cell_type": "code",
   "execution_count": 31,
   "metadata": {
    "colab": {
     "base_uri": "https://localhost:8080/",
     "height": 112
    },
    "id": "bRbQ2CHiSuJI",
    "outputId": "9c9bbbe0-60ba-46c1-9ed6-b04032506f2f"
   },
   "outputs": [
    {
     "data": {
      "application/vnd.google.colaboratory.intrinsic+json": {
       "repr_error": "0",
       "type": "dataframe"
      },
      "text/html": [
       "\n",
       "  <div id=\"df-505073c9-2406-4afa-802a-a451de90431c\" class=\"colab-df-container\">\n",
       "    <div>\n",
       "<style scoped>\n",
       "    .dataframe tbody tr th:only-of-type {\n",
       "        vertical-align: middle;\n",
       "    }\n",
       "\n",
       "    .dataframe tbody tr th {\n",
       "        vertical-align: top;\n",
       "    }\n",
       "\n",
       "    .dataframe thead th {\n",
       "        text-align: right;\n",
       "    }\n",
       "</style>\n",
       "<table border=\"1\" class=\"dataframe\">\n",
       "  <thead>\n",
       "    <tr style=\"text-align: right;\">\n",
       "      <th></th>\n",
       "      <th>UserName</th>\n",
       "      <th>ScreenName</th>\n",
       "      <th>Location</th>\n",
       "      <th>TweetAt</th>\n",
       "      <th>OriginalTweet</th>\n",
       "      <th>Sentiment</th>\n",
       "    </tr>\n",
       "  </thead>\n",
       "  <tbody>\n",
       "    <tr>\n",
       "      <th>152</th>\n",
       "      <td>3977</td>\n",
       "      <td>48929</td>\n",
       "      <td>Unknown</td>\n",
       "      <td>16-03-2020</td>\n",
       "      <td>Taken by Henk Zwoferink on Saturday in WÃÂ¶rg...</td>\n",
       "      <td>1</td>\n",
       "    </tr>\n",
       "    <tr>\n",
       "      <th>5020</th>\n",
       "      <td>9906</td>\n",
       "      <td>54858</td>\n",
       "      <td>New York City area</td>\n",
       "      <td>19-03-2020</td>\n",
       "      <td>It was a pleasure to be part of such a timely ...</td>\n",
       "      <td>1</td>\n",
       "    </tr>\n",
       "  </tbody>\n",
       "</table>\n",
       "</div>\n",
       "    <div class=\"colab-df-buttons\">\n",
       "\n",
       "  <div class=\"colab-df-container\">\n",
       "    <button class=\"colab-df-convert\" onclick=\"convertToInteractive('df-505073c9-2406-4afa-802a-a451de90431c')\"\n",
       "            title=\"Convert this dataframe to an interactive table.\"\n",
       "            style=\"display:none;\">\n",
       "\n",
       "  <svg xmlns=\"http://www.w3.org/2000/svg\" height=\"24px\" viewBox=\"0 -960 960 960\">\n",
       "    <path d=\"M120-120v-720h720v720H120Zm60-500h600v-160H180v160Zm220 220h160v-160H400v160Zm0 220h160v-160H400v160ZM180-400h160v-160H180v160Zm440 0h160v-160H620v160ZM180-180h160v-160H180v160Zm440 0h160v-160H620v160Z\"/>\n",
       "  </svg>\n",
       "    </button>\n",
       "\n",
       "  <style>\n",
       "    .colab-df-container {\n",
       "      display:flex;\n",
       "      gap: 12px;\n",
       "    }\n",
       "\n",
       "    .colab-df-convert {\n",
       "      background-color: #E8F0FE;\n",
       "      border: none;\n",
       "      border-radius: 50%;\n",
       "      cursor: pointer;\n",
       "      display: none;\n",
       "      fill: #1967D2;\n",
       "      height: 32px;\n",
       "      padding: 0 0 0 0;\n",
       "      width: 32px;\n",
       "    }\n",
       "\n",
       "    .colab-df-convert:hover {\n",
       "      background-color: #E2EBFA;\n",
       "      box-shadow: 0px 1px 2px rgba(60, 64, 67, 0.3), 0px 1px 3px 1px rgba(60, 64, 67, 0.15);\n",
       "      fill: #174EA6;\n",
       "    }\n",
       "\n",
       "    .colab-df-buttons div {\n",
       "      margin-bottom: 4px;\n",
       "    }\n",
       "\n",
       "    [theme=dark] .colab-df-convert {\n",
       "      background-color: #3B4455;\n",
       "      fill: #D2E3FC;\n",
       "    }\n",
       "\n",
       "    [theme=dark] .colab-df-convert:hover {\n",
       "      background-color: #434B5C;\n",
       "      box-shadow: 0px 1px 3px 1px rgba(0, 0, 0, 0.15);\n",
       "      filter: drop-shadow(0px 1px 2px rgba(0, 0, 0, 0.3));\n",
       "      fill: #FFFFFF;\n",
       "    }\n",
       "  </style>\n",
       "\n",
       "    <script>\n",
       "      const buttonEl =\n",
       "        document.querySelector('#df-505073c9-2406-4afa-802a-a451de90431c button.colab-df-convert');\n",
       "      buttonEl.style.display =\n",
       "        google.colab.kernel.accessAllowed ? 'block' : 'none';\n",
       "\n",
       "      async function convertToInteractive(key) {\n",
       "        const element = document.querySelector('#df-505073c9-2406-4afa-802a-a451de90431c');\n",
       "        const dataTable =\n",
       "          await google.colab.kernel.invokeFunction('convertToInteractive',\n",
       "                                                    [key], {});\n",
       "        if (!dataTable) return;\n",
       "\n",
       "        const docLinkHtml = 'Like what you see? Visit the ' +\n",
       "          '<a target=\"_blank\" href=https://colab.research.google.com/notebooks/data_table.ipynb>data table notebook</a>'\n",
       "          + ' to learn more about interactive tables.';\n",
       "        element.innerHTML = '';\n",
       "        dataTable['output_type'] = 'display_data';\n",
       "        await google.colab.output.renderOutput(dataTable, element);\n",
       "        const docLink = document.createElement('div');\n",
       "        docLink.innerHTML = docLinkHtml;\n",
       "        element.appendChild(docLink);\n",
       "      }\n",
       "    </script>\n",
       "  </div>\n",
       "\n",
       "\n",
       "    <div id=\"df-c86df1e0-7140-403b-8cda-f085d3aa9185\">\n",
       "      <button class=\"colab-df-quickchart\" onclick=\"quickchart('df-c86df1e0-7140-403b-8cda-f085d3aa9185')\"\n",
       "                title=\"Suggest charts\"\n",
       "                style=\"display:none;\">\n",
       "\n",
       "<svg xmlns=\"http://www.w3.org/2000/svg\" height=\"24px\"viewBox=\"0 0 24 24\"\n",
       "     width=\"24px\">\n",
       "    <g>\n",
       "        <path d=\"M19 3H5c-1.1 0-2 .9-2 2v14c0 1.1.9 2 2 2h14c1.1 0 2-.9 2-2V5c0-1.1-.9-2-2-2zM9 17H7v-7h2v7zm4 0h-2V7h2v10zm4 0h-2v-4h2v4z\"/>\n",
       "    </g>\n",
       "</svg>\n",
       "      </button>\n",
       "\n",
       "<style>\n",
       "  .colab-df-quickchart {\n",
       "      --bg-color: #E8F0FE;\n",
       "      --fill-color: #1967D2;\n",
       "      --hover-bg-color: #E2EBFA;\n",
       "      --hover-fill-color: #174EA6;\n",
       "      --disabled-fill-color: #AAA;\n",
       "      --disabled-bg-color: #DDD;\n",
       "  }\n",
       "\n",
       "  [theme=dark] .colab-df-quickchart {\n",
       "      --bg-color: #3B4455;\n",
       "      --fill-color: #D2E3FC;\n",
       "      --hover-bg-color: #434B5C;\n",
       "      --hover-fill-color: #FFFFFF;\n",
       "      --disabled-bg-color: #3B4455;\n",
       "      --disabled-fill-color: #666;\n",
       "  }\n",
       "\n",
       "  .colab-df-quickchart {\n",
       "    background-color: var(--bg-color);\n",
       "    border: none;\n",
       "    border-radius: 50%;\n",
       "    cursor: pointer;\n",
       "    display: none;\n",
       "    fill: var(--fill-color);\n",
       "    height: 32px;\n",
       "    padding: 0;\n",
       "    width: 32px;\n",
       "  }\n",
       "\n",
       "  .colab-df-quickchart:hover {\n",
       "    background-color: var(--hover-bg-color);\n",
       "    box-shadow: 0 1px 2px rgba(60, 64, 67, 0.3), 0 1px 3px 1px rgba(60, 64, 67, 0.15);\n",
       "    fill: var(--button-hover-fill-color);\n",
       "  }\n",
       "\n",
       "  .colab-df-quickchart-complete:disabled,\n",
       "  .colab-df-quickchart-complete:disabled:hover {\n",
       "    background-color: var(--disabled-bg-color);\n",
       "    fill: var(--disabled-fill-color);\n",
       "    box-shadow: none;\n",
       "  }\n",
       "\n",
       "  .colab-df-spinner {\n",
       "    border: 2px solid var(--fill-color);\n",
       "    border-color: transparent;\n",
       "    border-bottom-color: var(--fill-color);\n",
       "    animation:\n",
       "      spin 1s steps(1) infinite;\n",
       "  }\n",
       "\n",
       "  @keyframes spin {\n",
       "    0% {\n",
       "      border-color: transparent;\n",
       "      border-bottom-color: var(--fill-color);\n",
       "      border-left-color: var(--fill-color);\n",
       "    }\n",
       "    20% {\n",
       "      border-color: transparent;\n",
       "      border-left-color: var(--fill-color);\n",
       "      border-top-color: var(--fill-color);\n",
       "    }\n",
       "    30% {\n",
       "      border-color: transparent;\n",
       "      border-left-color: var(--fill-color);\n",
       "      border-top-color: var(--fill-color);\n",
       "      border-right-color: var(--fill-color);\n",
       "    }\n",
       "    40% {\n",
       "      border-color: transparent;\n",
       "      border-right-color: var(--fill-color);\n",
       "      border-top-color: var(--fill-color);\n",
       "    }\n",
       "    60% {\n",
       "      border-color: transparent;\n",
       "      border-right-color: var(--fill-color);\n",
       "    }\n",
       "    80% {\n",
       "      border-color: transparent;\n",
       "      border-right-color: var(--fill-color);\n",
       "      border-bottom-color: var(--fill-color);\n",
       "    }\n",
       "    90% {\n",
       "      border-color: transparent;\n",
       "      border-bottom-color: var(--fill-color);\n",
       "    }\n",
       "  }\n",
       "</style>\n",
       "\n",
       "      <script>\n",
       "        async function quickchart(key) {\n",
       "          const quickchartButtonEl =\n",
       "            document.querySelector('#' + key + ' button');\n",
       "          quickchartButtonEl.disabled = true;  // To prevent multiple clicks.\n",
       "          quickchartButtonEl.classList.add('colab-df-spinner');\n",
       "          try {\n",
       "            const charts = await google.colab.kernel.invokeFunction(\n",
       "                'suggestCharts', [key], {});\n",
       "          } catch (error) {\n",
       "            console.error('Error during call to suggestCharts:', error);\n",
       "          }\n",
       "          quickchartButtonEl.classList.remove('colab-df-spinner');\n",
       "          quickchartButtonEl.classList.add('colab-df-quickchart-complete');\n",
       "        }\n",
       "        (() => {\n",
       "          let quickchartButtonEl =\n",
       "            document.querySelector('#df-c86df1e0-7140-403b-8cda-f085d3aa9185 button');\n",
       "          quickchartButtonEl.style.display =\n",
       "            google.colab.kernel.accessAllowed ? 'block' : 'none';\n",
       "        })();\n",
       "      </script>\n",
       "    </div>\n",
       "    </div>\n",
       "  </div>\n"
      ],
      "text/plain": [
       "      UserName  ScreenName            Location     TweetAt  \\\n",
       "152       3977       48929             Unknown  16-03-2020   \n",
       "5020      9906       54858  New York City area  19-03-2020   \n",
       "\n",
       "                                          OriginalTweet Sentiment  \n",
       "152   Taken by Henk Zwoferink on Saturday in WÃÂ¶rg...         1  \n",
       "5020  It was a pleasure to be part of such a timely ...         1  "
      ]
     },
     "execution_count": 31,
     "metadata": {},
     "output_type": "execute_result"
    }
   ],
   "source": [
    "train[train['OriginalTweet'].apply(lambda x: 'pleasure' in x) & (train['Sentiment'] == 1)]\n"
   ]
  },
  {
   "cell_type": "code",
   "execution_count": 32,
   "metadata": {
    "colab": {
     "base_uri": "https://localhost:8080/",
     "height": 70
    },
    "id": "o8FtPo7cjMni",
    "outputId": "a21b4d73-c1cc-43de-edf9-639d7e054370"
   },
   "outputs": [
    {
     "data": {
      "application/vnd.google.colaboratory.intrinsic+json": {
       "type": "string"
      },
      "text/plain": [
       "\"Taken by Henk Zwoferink on Saturday in WÃ\\x83Â¶rgl, our black beauty hauled a train bringing the last tourists home. Our colleagues are #workinghard to keep supply chains running while respecting the measures to ensure everyone's #safety. A pleasure to work with such #DedicatedPeople! https://t.co/EoXT7Q43ZB\""
      ]
     },
     "execution_count": 32,
     "metadata": {},
     "output_type": "execute_result"
    }
   ],
   "source": [
    "train.at[152, 'OriginalTweet']"
   ]
  },
  {
   "cell_type": "code",
   "execution_count": 33,
   "metadata": {
    "colab": {
     "base_uri": "https://localhost:8080/"
    },
    "id": "4jwvwUJ1sn6H",
    "outputId": "3d62c488-9006-48ae-f7cf-36f3c643620e"
   },
   "outputs": [
    {
     "data": {
      "text/plain": [
       "('home', '#dedicatedpeople')"
      ]
     },
     "execution_count": 33,
     "metadata": {},
     "output_type": "execute_result"
    }
   ],
   "source": [
    "text= \" \".join([w for w in custom_tokenizer(train.at[152, 'OriginalTweet'])])\n",
    "text = tfidf_vec.transform([text])\n",
    "text_without_zeros = np.where(text.toarray() == 0, np.inf, text.toarray())\n",
    "list(tfidf_vec.get_feature_names_out())[np.argmin(text_without_zeros)], list(tfidf_vec.get_feature_names_out())[np.argmax(text.toarray())]\n"
   ]
  },
  {
   "cell_type": "markdown",
   "metadata": {
    "id": "JTv9ST2_U6NA"
   },
   "source": [
    "**Ответ:** тут неплохо определяется самое неважное слово - home - все сидят по домам, это частое слово и не несет окраски. хэштег же про преданных своему делу людей довольно естественно относить к положительно окрашеному токену, так что результат хороший"
   ]
  },
  {
   "cell_type": "markdown",
   "metadata": {
    "id": "JVEuZm8BHms6"
   },
   "source": [
    "## Задание 4 Обучение первых моделей (1 балл)"
   ]
  },
  {
   "cell_type": "markdown",
   "metadata": {
    "id": "JADkO3sfXdOG"
   },
   "source": [
    "Примените оба векторайзера для получения матриц с признаками текстов.  Выделите целевую переменную."
   ]
  },
  {
   "cell_type": "code",
   "execution_count": 84,
   "metadata": {
    "colab": {
     "base_uri": "https://localhost:8080/"
    },
    "id": "DguoiXhCX2oN",
    "outputId": "4e32178a-fc2d-42fa-9c63-7725cde24ba7"
   },
   "outputs": [
    {
     "name": "stderr",
     "output_type": "stream",
     "text": [
      "/usr/local/lib/python3.11/dist-packages/sklearn/feature_extraction/text.py:517: UserWarning: The parameter 'token_pattern' will not be used since 'tokenizer' is not None'\n",
      "  warnings.warn(\n"
     ]
    }
   ],
   "source": [
    "tfidf_vec = TfidfVectorizer(tokenizer=custom_tokenizer)\n",
    "X_train_tfidf_vec = tfidf_vec.fit_transform(train.OriginalTweet)\n",
    "\n",
    "cv = CountVectorizer(tokenizer=custom_tokenizer)\n",
    "X_train_cv = cv.fit_transform(train.OriginalTweet)\n",
    "\n",
    "y_train = train.Sentiment.to_numpy().astype(int)\n",
    "\n",
    "X_test_tfidf_vec = tfidf_vec.transform(test.OriginalTweet)\n",
    "\n",
    "X_test_cv = cv.transform(test.OriginalTweet)\n",
    "\n",
    "y_test = test.Sentiment.to_numpy().astype(int)"
   ]
  },
  {
   "cell_type": "markdown",
   "metadata": {
    "id": "_FX1KSOfYSx4"
   },
   "source": [
    "Обучите логистическую регрессию на векторах из обоих векторайзеров. Посчитайте долю правильных ответов на обучающих и тестовых данных. Какой векторайзер показал лучший результат? Что можно сказать о моделях?\n",
    "\n",
    "Используйте `sparse` матрицы (после векторизации), не превращайте их в `numpy.ndarray` или `pd.DataFrame` - может не хватить памяти."
   ]
  },
  {
   "cell_type": "code",
   "execution_count": 85,
   "metadata": {
    "colab": {
     "base_uri": "https://localhost:8080/"
    },
    "id": "-Tb3eh8UXJ6v",
    "outputId": "c9aa4b5d-a2a9-4214-e5b7-cef40c009a4f"
   },
   "outputs": [
    {
     "name": "stdout",
     "output_type": "stream",
     "text": [
      "X_train_tfidf_vec\n",
      "0.9224263135412217\n",
      "X_train_cv\n",
      "0.9846646732165741\n",
      "X_test_tfidf_vec\n",
      "0.8512058999402033\n",
      "X_test_cv\n",
      "0.8670520231213873\n"
     ]
    }
   ],
   "source": [
    "from sklearn.linear_model import LogisticRegression\n",
    "from sklearn.metrics import accuracy_score\n",
    "\n",
    "clf = LogisticRegression(max_iter=200, random_state=52)\n",
    "\n",
    "clf.fit(X_train_tfidf_vec, y_train)\n",
    "\n",
    "pred_train_tfidf_vec = clf.predict(X_train_tfidf_vec)\n",
    "print('X_train_tfidf_vec')\n",
    "print(accuracy_score(y_train, pred_train_tfidf_vec))\n",
    "\n",
    "clf.fit(X_train_cv, y_train)\n",
    "\n",
    "pred_train_cv = clf.predict(X_train_cv)\n",
    "print('X_train_cv')\n",
    "print(accuracy_score(y_train, pred_train_cv))\n",
    "\n",
    "\n",
    "pred_test_tfidf_vec = clf.predict(X_test_tfidf_vec)\n",
    "print('X_test_tfidf_vec')\n",
    "print(accuracy_score(y_test, pred_test_tfidf_vec))\n",
    "\n",
    "\n",
    "pred_test_cv = clf.predict(X_test_cv)\n",
    "print('X_test_cv')\n",
    "print(accuracy_score(y_test, pred_test_cv))"
   ]
  },
  {
   "cell_type": "markdown",
   "metadata": {
    "id": "8y_wO7rCmv7K"
   },
   "source": [
    "**Ответ:**  векторайзер CountVectorizer показывает чуть лучший результат, думаю это связано с тем что другой векторайзер может присваивать важность уникальным словам типа имен и тэгов, которые не имеют отношения к окраске"
   ]
  },
  {
   "cell_type": "markdown",
   "metadata": {
    "id": "rSOR1i3mjrys"
   },
   "source": [
    "## Задание 5 Стемминг (0.5 балла)"
   ]
  },
  {
   "cell_type": "markdown",
   "metadata": {
    "id": "i6ONBWNPjuq-"
   },
   "source": [
    "Для уменьшения словаря можно использовать стемминг.\n",
    "\n",
    "Модифицируйте написанный токенайзер, добавив в него стемминг с использованием SnowballStemmer. Обучите Count- и Tfidf- векторайзеры. Как изменился размер словаря?"
   ]
  },
  {
   "cell_type": "code",
   "execution_count": 36,
   "metadata": {
    "id": "oVfA2-iMkQBb"
   },
   "outputs": [],
   "source": [
    "from nltk.stem.snowball import SnowballStemmer\n",
    "stemmer = SnowballStemmer(\"english\")\n",
    "def custom_stem_tokenizer(text):\n",
    "  tokens = [stemmer.stem(w) for w in custom_tokenizer(text)]\n",
    "  return tokens\n"
   ]
  },
  {
   "cell_type": "code",
   "execution_count": 37,
   "metadata": {
    "colab": {
     "base_uri": "https://localhost:8080/"
    },
    "id": "9QmrjYtqnlPd",
    "outputId": "f699b8f8-8905-43c0-8ffb-5c5a78444b5d"
   },
   "outputs": [
    {
     "data": {
      "text/plain": [
       "['sampl', 'text', '@sample_text', '#sampletext', 'ad', 'word', 'check', 'stem']"
      ]
     },
     "execution_count": 37,
     "metadata": {},
     "output_type": "execute_result"
    }
   ],
   "source": [
    "custom_stem_tokenizer('This is sample text!!!! @Sample_text I, \\x92\\x92 https://t.co/sample  #sampletext adding more words to check stemming')"
   ]
  },
  {
   "cell_type": "code",
   "execution_count": 38,
   "metadata": {
    "colab": {
     "base_uri": "https://localhost:8080/"
    },
    "id": "zAvUTmaplzOS",
    "outputId": "8b2e08cf-d8d2-43dd-91e7-a3f6cef40dfa"
   },
   "outputs": [
    {
     "name": "stderr",
     "output_type": "stream",
     "text": [
      "/usr/local/lib/python3.11/dist-packages/sklearn/feature_extraction/text.py:517: UserWarning: The parameter 'token_pattern' will not be used since 'tokenizer' is not None'\n",
      "  warnings.warn(\n"
     ]
    },
    {
     "name": "stdout",
     "output_type": "stream",
     "text": [
      "36634\n"
     ]
    }
   ],
   "source": [
    "cv = CountVectorizer(tokenizer=custom_stem_tokenizer)\n",
    "tfidf_vec = TfidfVectorizer(tokenizer=custom_stem_tokenizer)\n",
    "cv.fit_transform(train.OriginalTweet)\n",
    "\n",
    "print(len(cv.vocabulary_))"
   ]
  },
  {
   "cell_type": "markdown",
   "metadata": {
    "id": "Oyzs5TaAoHP6"
   },
   "source": [
    "**Ответ** ушла примерно 1/5 слов - значительное сокращение"
   ]
  },
  {
   "cell_type": "markdown",
   "metadata": {
    "id": "1OkncHI8oRmd"
   },
   "source": [
    "Обучите логистическую регрессию с использованием обоих векторайзеров. Изменилось ли качество? Есть ли смысл применять стемминг?"
   ]
  },
  {
   "cell_type": "code",
   "execution_count": 81,
   "metadata": {
    "colab": {
     "base_uri": "https://localhost:8080/"
    },
    "id": "ykZJPphEoZ5W",
    "outputId": "00440c68-6c1e-4bc0-f9a1-d916c491309b"
   },
   "outputs": [
    {
     "name": "stderr",
     "output_type": "stream",
     "text": [
      "/usr/local/lib/python3.11/dist-packages/sklearn/feature_extraction/text.py:517: UserWarning: The parameter 'token_pattern' will not be used since 'tokenizer' is not None'\n",
      "  warnings.warn(\n"
     ]
    },
    {
     "name": "stdout",
     "output_type": "stream",
     "text": [
      "X_train_tfidf_vec\n",
      "0.9165741136266553\n",
      "X_train_cv\n",
      "0.9720205040580948\n",
      "X_test_tfidf_vec\n",
      "0.8573848913693443\n",
      "X_test_cv\n",
      "0.8674506677297189\n"
     ]
    }
   ],
   "source": [
    "X_train_tfidf_vec = tfidf_vec.fit_transform(train.OriginalTweet)\n",
    "\n",
    "X_train_cv = cv.fit_transform(train.OriginalTweet)\n",
    "\n",
    "y_train = train.Sentiment.to_numpy().astype(int)\n",
    "\n",
    "X_test_tfidf_vec = tfidf_vec.transform(test.OriginalTweet)\n",
    "\n",
    "X_test_cv = cv.transform(test.OriginalTweet)\n",
    "\n",
    "y_test = test.Sentiment.to_numpy().astype(int)\n",
    "\n",
    "clf = LogisticRegression(max_iter=200, random_state=52)\n",
    "\n",
    "clf.fit(X_train_tfidf_vec, y_train)\n",
    "\n",
    "pred_train_tfidf_vec = clf.predict(X_train_tfidf_vec)\n",
    "print('X_train_tfidf_vec')\n",
    "print(accuracy_score(y_train, pred_train_tfidf_vec))\n",
    "\n",
    "clf.fit(X_train_cv, y_train)\n",
    "\n",
    "pred_train_cv = clf.predict(X_train_cv)\n",
    "print('X_train_cv')\n",
    "print(accuracy_score(y_train, pred_train_cv))\n",
    "\n",
    "\n",
    "pred_test_tfidf_vec = clf.predict(X_test_tfidf_vec)\n",
    "print('X_test_tfidf_vec')\n",
    "print(accuracy_score(y_test, pred_test_tfidf_vec))\n",
    "\n",
    "\n",
    "pred_test_cv = clf.predict(X_test_cv)\n",
    "print('X_test_cv')\n",
    "print(accuracy_score(y_test, pred_test_cv))"
   ]
  },
  {
   "cell_type": "markdown",
   "metadata": {
    "id": "bCRlrODro0h8"
   },
   "source": [
    "**Ответ:** качество немного просело на тренировочном, но чуть чуть повысилось на тесте, стемминг оказался лишним и без него можно обойтись"
   ]
  },
  {
   "cell_type": "markdown",
   "metadata": {
    "id": "hYWGQNEDqLC-"
   },
   "source": [
    "## Задание  6 Работа с частотами (1.5 балла)"
   ]
  },
  {
   "cell_type": "markdown",
   "metadata": {
    "id": "8Hq-tl5mqUSn"
   },
   "source": [
    "Еще один способ уменьшить количество признаков - это использовать параметры min_df и max_df при построении векторайзера  эти параметры помогают ограничить требуемую частоту встречаемости токена в документах.\n",
    "\n",
    "По умолчанию берутся все токены, которые встретились хотя бы один раз.\n",
    "\n"
   ]
  },
  {
   "cell_type": "markdown",
   "metadata": {
    "id": "m1SiD4DE3WZ2"
   },
   "source": [
    "Подберите max_df такой, что размер словаря будет 36633 (на 1 меньше, чем было). Почему параметр получился такой большой/маленький?"
   ]
  },
  {
   "cell_type": "code",
   "execution_count": 40,
   "metadata": {
    "colab": {
     "base_uri": "https://localhost:8080/"
    },
    "id": "o3YLb8PViExb",
    "outputId": "a8c5a1af-4453-46ae-fefc-ff1fb0114f7b"
   },
   "outputs": [
    {
     "name": "stderr",
     "output_type": "stream",
     "text": [
      "/usr/local/lib/python3.11/dist-packages/sklearn/feature_extraction/text.py:517: UserWarning: The parameter 'token_pattern' will not be used since 'tokenizer' is not None'\n",
      "  warnings.warn(\n"
     ]
    },
    {
     "name": "stdout",
     "output_type": "stream",
     "text": [
      "36633\n"
     ]
    }
   ],
   "source": [
    "cv_df = CountVectorizer(tokenizer=custom_stem_tokenizer,\n",
    "                        max_df=7900\n",
    "                        ).fit(\n",
    "                            train.OriginalTweet\n",
    "                            )\n",
    "print(len(cv_df.vocabulary_))"
   ]
  },
  {
   "cell_type": "markdown",
   "metadata": {
    "id": "UdZYoGZR4UsA"
   },
   "source": [
    "**Ответ:** я посмотрел на количество самого частого токена - 8808 у coronovirus и на следующий - 7167 у \"19\". по идее любое число между этими подойдет, но лучше поближе к 7167, на случай, если в одном твите больше 1 раза используется coronovirus"
   ]
  },
  {
   "cell_type": "markdown",
   "metadata": {
    "id": "_gRIUaB1u32f"
   },
   "source": [
    "Подберите min_df (используйте дефолтное значение max_df) в CountVectorizer таким образом, чтобы размер словаря был 3700 токенов (при использовании токенайзера со стеммингом), а качество осталось таким же, как и было. Что можно сказать о результатах?"
   ]
  },
  {
   "cell_type": "code",
   "execution_count": 41,
   "metadata": {
    "colab": {
     "base_uri": "https://localhost:8080/"
    },
    "id": "kSnMJkn9XmsT",
    "outputId": "45c6558b-db9f-40ed-bc33-b3d580965231"
   },
   "outputs": [
    {
     "name": "stdout",
     "output_type": "stream",
     "text": [
      "3687\n"
     ]
    }
   ],
   "source": [
    "cv_df = CountVectorizer(tokenizer=custom_stem_tokenizer,\n",
    "                        min_df=11\n",
    "                        ).fit(\n",
    "                            train.OriginalTweet\n",
    "                            )\n",
    "print(len(cv_df.vocabulary_)) # 3687 - самое близкое что можно получить"
   ]
  },
  {
   "cell_type": "code",
   "execution_count": 82,
   "metadata": {
    "colab": {
     "base_uri": "https://localhost:8080/"
    },
    "id": "mvMDwpdfjm8Y",
    "outputId": "c6edbe87-d885-47fc-f6c3-a58170abe722"
   },
   "outputs": [
    {
     "name": "stderr",
     "output_type": "stream",
     "text": [
      "/usr/local/lib/python3.11/dist-packages/sklearn/feature_extraction/text.py:517: UserWarning: The parameter 'token_pattern' will not be used since 'tokenizer' is not None'\n",
      "  warnings.warn(\n"
     ]
    },
    {
     "name": "stdout",
     "output_type": "stream",
     "text": [
      "X_train_cv_df\n",
      "0.9290046988466467\n",
      "X_test_cv_df\n",
      "0.8680486346422165\n"
     ]
    }
   ],
   "source": [
    "X_train_cv_df = cv_df.fit_transform(train.OriginalTweet)\n",
    "\n",
    "y_train = train.Sentiment.to_numpy().astype(int)\n",
    "\n",
    "X_test_cv_df = cv_df.transform(test.OriginalTweet)\n",
    "\n",
    "y_test = test.Sentiment.to_numpy().astype(int)\n",
    "\n",
    "clf = LogisticRegression(max_iter=200, random_state=52)\n",
    "\n",
    "clf.fit(X_train_cv_df, y_train)\n",
    "pred_train_cv_df = clf.predict(X_train_cv_df)\n",
    "print('X_train_cv_df')\n",
    "print(accuracy_score(y_train, pred_train_cv_df))\n",
    "\n",
    "\n",
    "pred_test_cv_df = clf.predict(X_test_cv_df)\n",
    "print('X_test_cv_df')\n",
    "print(accuracy_score(y_test, pred_test_cv_df))"
   ]
  },
  {
   "cell_type": "markdown",
   "metadata": {
    "id": "3fGYpUIZx0fk"
   },
   "source": [
    "**Ответ:** качество немного уменьшилось на тренировочном датасете, но чуть улучшилось на тестовом. Получаем, что оочень редко встречающиеся слова помогают немного улучшить качество, но времени и памяти занимают значительно и без них модель хорошая, оно и понятно, эти редкоиспользуемые слова могут явно подсказывать окрас, но так как их мало вклад в общую картину это дает не очень большой, кроме того мы не знаем распределение слов в тесте, возможно там будут выкинутые слова, которые теперь мы просто игнорируем, но в любом случае это небольшая доля, основную часть частыми словами мы хорошо определяем."
   ]
  },
  {
   "cell_type": "markdown",
   "metadata": {
    "id": "Gx_h_-inKbBl"
   },
   "source": [
    "В предыдущих заданиях признаки не скалировались. Отскалируйте данные (при словаре размера 3.7 тысяч, векторизованные CountVectorizer), обучите логистическую регрессию, посмотрите качество и выведите `barplot`, содержащий по 10 токенов, с наибольшим по модулю положительными/отрицательными весами. Что можно сказать об этих токенах?"
   ]
  },
  {
   "cell_type": "code",
   "execution_count": 105,
   "metadata": {
    "colab": {
     "base_uri": "https://localhost:8080/"
    },
    "id": "KBATXJX6LG9q",
    "outputId": "e62bdea3-7fcb-485e-81ae-1f5c9b6c0f62"
   },
   "outputs": [
    {
     "name": "stderr",
     "output_type": "stream",
     "text": [
      "/usr/local/lib/python3.11/dist-packages/sklearn/feature_extraction/text.py:517: UserWarning: The parameter 'token_pattern' will not be used since 'tokenizer' is not None'\n",
      "  warnings.warn(\n"
     ]
    },
    {
     "name": "stdout",
     "output_type": "stream",
     "text": [
      "X_train_cv_df\n",
      "0.9414780008543358\n",
      "X_test_cv_df\n",
      "0.8447279250548136\n"
     ]
    }
   ],
   "source": [
    "from sklearn.preprocessing import StandardScalerX_train_cv_df = cv_df.fit_transform(train.OriginalTweet)\n",
    "\n",
    "y_train = train.Sentiment.to_numpy().astype(int)\n",
    "\n",
    "X_test_cv_df = cv_df.transform(test.OriginalTweet)\n",
    "\n",
    "y_test = test.Sentiment.to_numpy().astype(int)\n",
    "\n",
    "clf = LogisticRegression(max_iter=200, random_state=52)\n",
    "\n",
    "sclr = StandardScaler(with_mean=False)\n",
    "X_train_cv_df = sclr.fit_transform(X_train_cv_df)\n",
    "X_test_cv_df = sclr.transform(X_test_cv_df)\n",
    "\n",
    "clf.fit(X_train_cv_df, y_train)\n",
    "pred_train_cv_df = clf.predict(X_train_cv_df)\n",
    "print('X_train_cv_df')\n",
    "print(accuracy_score(y_train, pred_train_cv_df))\n",
    "\n",
    "pred_test_cv_df = clf.predict(X_test_cv_df)\n",
    "print('X_test_cv_df')\n",
    "print(accuracy_score(y_test, pred_test_cv_df))"
   ]
  },
  {
   "cell_type": "code",
   "execution_count": 44,
   "metadata": {
    "id": "lscj9PwMHD04"
   },
   "outputs": [],
   "source": [
    "tokens_df = cv_df.get_feature_names_out()\n",
    "weights = clf.coef_[0]\n",
    "\n",
    "weights_df = pd.DataFrame({\n",
    "    'tokens': tokens_df,\n",
    "    'weight': weights\n",
    "})\n",
    "\n",
    "top_positive = weights_df.nlargest(10, 'weight')\n",
    "top_negative = weights_df.nsmallest(10, 'weight')\n"
   ]
  },
  {
   "cell_type": "code",
   "execution_count": 86,
   "metadata": {
    "colab": {
     "base_uri": "https://localhost:8080/",
     "height": 681
    },
    "id": "qkY7YmjnIpZR",
    "outputId": "36ee3ffb-e8a9-4de1-8841-10f30e58999a"
   },
   "outputs": [
    {
     "name": "stderr",
     "output_type": "stream",
     "text": [
      "<ipython-input-86-e1d39ba25835>:2: FutureWarning: \n",
      "\n",
      "Passing `palette` without assigning `hue` is deprecated and will be removed in v0.14.0. Assign the `y` variable to `hue` and set `legend=False` for the same effect.\n",
      "\n",
      "  sns.barplot(x='weight', y='tokens', data=top_positive, palette='autumn')\n",
      "<ipython-input-86-e1d39ba25835>:3: FutureWarning: \n",
      "\n",
      "Passing `palette` without assigning `hue` is deprecated and will be removed in v0.14.0. Assign the `y` variable to `hue` and set `legend=False` for the same effect.\n",
      "\n",
      "  sns.barplot(x='weight', y='tokens', data=top_negative, palette='winter')\n"
     ]
    },
    {
     "data": {
      "image/png": "[encoded data removed]",
      "text/plain": [
       "<Figure size 1000x500 with 1 Axes>"
      ]
     },
     "metadata": {},
     "output_type": "display_data"
    }
   ],
   "source": [
    "plt.figure(figsize=(10, 5))\n",
    "sns.barplot(x='weight', y='tokens', data=top_positive, palette='autumn')\n",
    "sns.barplot(x='weight', y='tokens', data=top_negative, palette='winter')\n",
    "plt.title('Top 10 Positive and Negative Weights')\n",
    "# plt.tight_layout()\n",
    "plt.show()"
   ]
  },
  {
   "cell_type": "markdown",
   "metadata": {
    "id": "ThcEfzY1LHET"
   },
   "source": [
    "**Ответ:** качество на тесте чуть ухудшилось, а на тренировочном - улучшилось, но скейлер не внес решающий вклад\n",
    "\n",
    "про токены: большие положительные веса получили слова положительного окраса, а большие отрицательные - отрицательного, все логично, ведь нужно положительный ответ (число) в 1 случае и отрицательный ответ (число) в другом."
   ]
  },
  {
   "cell_type": "markdown",
   "metadata": {
    "id": "ktJVOdrIHq7B"
   },
   "source": [
    "## Задание 7 Другие признаки (1.5 балла)"
   ]
  },
  {
   "cell_type": "markdown",
   "metadata": {
    "id": "Yt3jRCZ2H0Og"
   },
   "source": [
    "Мы были сконцентрированы на работе с текстами твиттов и не использовали другие признаки - имена пользователя, дату и местоположение"
   ]
  },
  {
   "cell_type": "markdown",
   "metadata": {
    "id": "52wjewCCo_di"
   },
   "source": [
    "Изучите признаки UserName и ScreenName. полезны ли они? Если полезны, то закодируйте их, добавьте к матрице с отскалированными признаками, обучите логистическую регрессию, замерьте качество."
   ]
  },
  {
   "cell_type": "code",
   "execution_count": 46,
   "metadata": {
    "colab": {
     "base_uri": "https://localhost:8080/"
    },
    "id": "63thouYZptj6",
    "outputId": "b89a20a0-8c86-42b7-a8ea-09825787158f"
   },
   "outputs": [
    {
     "data": {
      "text/plain": [
       "1"
      ]
     },
     "execution_count": 46,
     "metadata": {},
     "output_type": "execute_result"
    }
   ],
   "source": [
    "train.UserName.value_counts().max()# все пользователи уникальны - значит это просто id - не несет пользы для модели\n",
    "train.ScreenName.value_counts().max() # то же самое"
   ]
  },
  {
   "cell_type": "markdown",
   "metadata": {
    "id": "r8_qR-gnpT3a"
   },
   "source": [
    "**Ответ:** добавлять не буду"
   ]
  },
  {
   "cell_type": "markdown",
   "metadata": {
    "id": "ythEcFSkt7y3"
   },
   "source": [
    "Изучите признак TweetAt в обучающей выборке: преобразуйте его к типу datetime и нарисуйте его гистограмму с разделением по цвету на основе целевой переменной. Полезен ли он? Если полезен, то закодируйте его, добавьте к матрице с отскалированными признаками, обучите логистическую регрессию, замерьте качество."
   ]
  },
  {
   "cell_type": "code",
   "execution_count": 47,
   "metadata": {
    "colab": {
     "base_uri": "https://localhost:8080/",
     "height": 241
    },
    "id": "hLCurUgnNxM6",
    "outputId": "be540743-789d-440e-e540-ea53e6b60a4c"
   },
   "outputs": [
    {
     "data": {
      "text/html": [
       "<div>\n",
       "<style scoped>\n",
       "    .dataframe tbody tr th:only-of-type {\n",
       "        vertical-align: middle;\n",
       "    }\n",
       "\n",
       "    .dataframe tbody tr th {\n",
       "        vertical-align: top;\n",
       "    }\n",
       "\n",
       "    .dataframe thead th {\n",
       "        text-align: right;\n",
       "    }\n",
       "</style>\n",
       "<table border=\"1\" class=\"dataframe\">\n",
       "  <thead>\n",
       "    <tr style=\"text-align: right;\">\n",
       "      <th></th>\n",
       "      <th>TweetAt</th>\n",
       "    </tr>\n",
       "  </thead>\n",
       "  <tbody>\n",
       "    <tr>\n",
       "      <th>25621</th>\n",
       "      <td>06-04-2020</td>\n",
       "    </tr>\n",
       "    <tr>\n",
       "      <th>30135</th>\n",
       "      <td>10-04-2020</td>\n",
       "    </tr>\n",
       "    <tr>\n",
       "      <th>28899</th>\n",
       "      <td>09-04-2020</td>\n",
       "    </tr>\n",
       "    <tr>\n",
       "      <th>5989</th>\n",
       "      <td>19-03-2020</td>\n",
       "    </tr>\n",
       "    <tr>\n",
       "      <th>4367</th>\n",
       "      <td>18-03-2020</td>\n",
       "    </tr>\n",
       "  </tbody>\n",
       "</table>\n",
       "</div><br><label><b>dtype:</b> object</label>"
      ],
      "text/plain": [
       "25621    06-04-2020\n",
       "30135    10-04-2020\n",
       "28899    09-04-2020\n",
       "5989     19-03-2020\n",
       "4367     18-03-2020\n",
       "Name: TweetAt, dtype: object"
      ]
     },
     "execution_count": 47,
     "metadata": {},
     "output_type": "execute_result"
    }
   ],
   "source": [
    "train.TweetAt.head()"
   ]
  },
  {
   "cell_type": "code",
   "execution_count": 48,
   "metadata": {
    "colab": {
     "base_uri": "https://localhost:8080/",
     "height": 487
    },
    "id": "Lxb_k0JLirNv",
    "outputId": "c73428be-6b93-4f2f-b313-325913ccfbdb"
   },
   "outputs": [
    {
     "data": {
      "image/png": "[encoded data removed]",
      "text/plain": [
       "<Figure size 1200x500 with 1 Axes>"
      ]
     },
     "metadata": {},
     "output_type": "display_data"
    }
   ],
   "source": [
    "train.TweetAt = pd.to_datetime(train.TweetAt, format='%d-%m-%Y')\n",
    "\n",
    "plt.figure(figsize=(12, 5))\n",
    "sns.histplot(data=train, x='TweetAt', hue='Sentiment', bins=50)\n",
    "plt.title('TweetAt influence on emotion')\n",
    "plt.show()"
   ]
  },
  {
   "cell_type": "markdown",
   "metadata": {
    "id": "4IdLBdpQxM-G"
   },
   "source": [
    "**Ответ:** видим, что есть твиты обеих окрасок в каждый момент времени и так как положительных больше то и в каждый день среднем их чуть больше, вновь понимаем, что по этому признаку вряд ли удастся разделить - не добавляем"
   ]
  },
  {
   "cell_type": "markdown",
   "metadata": {
    "id": "r2JtRPhNP6qx"
   },
   "source": [
    "Поработайте с признаком Location в обучающей выборке. Сколько уникальных значений?"
   ]
  },
  {
   "cell_type": "code",
   "execution_count": 49,
   "metadata": {
    "colab": {
     "base_uri": "https://localhost:8080/"
    },
    "id": "xYQZQ1FRNpoe",
    "outputId": "ecb1f9a3-e53f-43c9-d755-ba0ca661e9be"
   },
   "outputs": [
    {
     "data": {
      "text/plain": [
       "7949"
      ]
     },
     "execution_count": 49,
     "metadata": {},
     "output_type": "execute_result"
    }
   ],
   "source": [
    "len(train.Location.unique()) #7949"
   ]
  },
  {
   "cell_type": "markdown",
   "metadata": {
    "id": "6k4JwpRTQISa"
   },
   "source": [
    "Постройте гистограмму топ-10 по популярности местоположений (исключая Unknown)"
   ]
  },
  {
   "cell_type": "code",
   "execution_count": 121,
   "metadata": {
    "colab": {
     "base_uri": "https://localhost:8080/",
     "height": 483
    },
    "id": "J91YkhegJ0mz",
    "outputId": "fd7fbb1f-00ef-48b8-946f-42276d4c5ee1"
   },
   "outputs": [
    {
     "name": "stdout",
     "output_type": "stream",
     "text": [
      "Index(['London', 'United States', 'London, England', 'New York, NY',\n",
      "       'Washington, DC', 'United Kingdom', 'Los Angeles, CA', 'India', 'UK',\n",
      "       'Australia'],\n",
      "      dtype='object', name='Location')\n"
     ]
    },
    {
     "data": {
      "image/png": "[encoded data removed]",
      "text/plain": [
       "<Figure size 1200x500 with 1 Axes>"
      ]
     },
     "metadata": {},
     "output_type": "display_data"
    }
   ],
   "source": [
    "top_locations = train['Location'].value_counts().drop('Unknown', errors='ignore').head(10).index\n",
    "print(top_locations)\n",
    "places = train[train['Location'].isin(top_locations)]\n",
    "\n",
    "plt.figure(figsize=(12, 5))\n",
    "sns.histplot(data=places, x='Location', discrete=True, hue='Sentiment')\n",
    "plt.xticks(fontsize=7)\n",
    "plt.title('Popular places')\n",
    "plt.show()"
   ]
  },
  {
   "cell_type": "markdown",
   "metadata": {
    "id": "ZOsv3lODTfYB"
   },
   "source": [
    "Видно, что многие местоположения включают в себя более точное название места, чем другие (Например, у некоторых стоит London, UK; а у некоторых просто UK или United Kingdom).\n",
    "\n",
    "Создайте новый признак WiderLocation, который содержит самое широкое местоположение (например, из London, UK должно получиться UK). Сколько уникальных категорий теперь? Постройте аналогичную гистограмму."
   ]
  },
  {
   "cell_type": "code",
   "execution_count": 91,
   "metadata": {
    "colab": {
     "base_uri": "https://localhost:8080/",
     "height": 483
    },
    "id": "mSkow6acOMyD",
    "outputId": "3fd7b532-8d33-40f7-e558-5d23c9f2a722"
   },
   "outputs": [
    {
     "data": {
      "image/png": "[encoded data removed]",
      "text/plain": [
       "<Figure size 1200x500 with 1 Axes>"
      ]
     },
     "metadata": {},
     "output_type": "display_data"
    }
   ],
   "source": [
    "train.WiderLocation = train.Location.apply(lambda x: x.split(', ')[-1])\n",
    "top_locations = train['Location'].value_counts().drop('Unknown', errors='ignore').head(10).index\n",
    "places = train[train['Location'].isin(top_locations)]\n",
    "\n",
    "plt.figure(figsize=(12, 5))\n",
    "sns.histplot(data=places, x='Location', discrete=True, hue='Sentiment')\n",
    "plt.xticks(fontsize=7)\n",
    "plt.title('Popular places')\n",
    "plt.show()"
   ]
  },
  {
   "cell_type": "markdown",
   "metadata": {
    "id": "cgyWrD2eVfff"
   },
   "source": [
    "Закодируйте признак WiderLocation с помощью OHE таким образом, чтобы создались только столбцы для местоположений, которые встречаются более одного раза. Сколько таких значений?\n"
   ]
  },
  {
   "cell_type": "code",
   "execution_count": 72,
   "metadata": {
    "colab": {
     "base_uri": "https://localhost:8080/"
    },
    "id": "SeJBfBWgPvg_",
    "outputId": "73eb9505-fcc9-495f-83d1-3ecf29b9c231"
   },
   "outputs": [
    {
     "data": {
      "text/plain": [
       "975"
      ]
     },
     "execution_count": 72,
     "metadata": {},
     "output_type": "execute_result"
    }
   ],
   "source": [
    "location_counts = train.WiderLocation.value_counts()\n",
    "top_locations = location_counts[location_counts > 1].index\n",
    "top_locations = [i for i in top_locations if not '?'in i]\n",
    "# я еще выкинул неясные локации, так как это сродни unknown\n",
    "encoded_train = pd.get_dummies(train.WiderLocation.where(train.WiderLocation.isin(top_locations)).fillna('Other'),\n",
    "                           prefix='WiderLocation')\n",
    "\n",
    "encoded_train = encoded_train.drop(columns=['WiderLocation_Other'])\n",
    "encoded_train = pd.concat([train, encoded_train], axis=1)\n",
    "encoded_train.head()\n",
    "len(top_locations)\n",
    "# значений 975"
   ]
  },
  {
   "cell_type": "markdown",
   "metadata": {
    "id": "ZyMX5kZuimPK"
   },
   "source": [
    "Добавьте этот признак к матрице отскалированных текстовых признаков, обучите логистическую регрессию, замерьте качество. Как оно изменилось? Оказался ли признак полезным?\n",
    "\n",
    "\n",
    "*Подсказка:* используйте параметр `categories` в энкодере."
   ]
  },
  {
   "cell_type": "code",
   "execution_count": 106,
   "metadata": {
    "id": "EO1jNPeeim7A"
   },
   "outputs": [],
   "source": [
    "from scipy.sparse import hstack\n",
    "from scipy.sparse import csr_matrix\n",
    "from sklearn.preprocessing import OneHotEncoder\n",
    "#сделаем заново с помощью OneHotEncoder но с теми же широкими локациями\n",
    "location_counts = train.WiderLocation.value_counts()\n",
    "top_locations = location_counts[location_counts > 1].index\n",
    "top_locations = [i for i in top_locations if not '?'in i]\n",
    "\n",
    "train['WiderLocation'] = train.Location.apply(lambda x: x.split(', ')[-1])\n",
    "test['WiderLocation'] = test.Location.apply(lambda x: x.split(', ')[-1])\n",
    "\n",
    "\n",
    "enc = OneHotEncoder(categories=[top_locations],\n",
    "                    sparse_output=True,\n",
    "                    handle_unknown='ignore')\n",
    "\n",
    "encoded_train = enc.fit_transform(train[['WiderLocation']])\n",
    "encoded_test = enc.transform(test[['WiderLocation']])\n",
    "\n",
    "train_encoded_sparse = csr_matrix(encoded_train)\n",
    "X_train_cv_df = hstack([X_train_cv_df, train_encoded_sparse])\n",
    "\n",
    "test_encoded_sparse = csr_matrix(encoded_test)\n",
    "X_test_cv_df = hstack([X_test_cv_df, test_encoded_sparse])\n",
    "\n"
   ]
  },
  {
   "cell_type": "code",
   "execution_count": 107,
   "metadata": {
    "colab": {
     "base_uri": "https://localhost:8080/"
    },
    "id": "HGdVylIYenbL",
    "outputId": "a6adbbe3-b768-4892-8b28-572e7e2c470b"
   },
   "outputs": [
    {
     "name": "stdout",
     "output_type": "stream",
     "text": [
      "X_train_cv_df\n",
      "0.9452370781717215\n",
      "X_test_cv_df\n",
      "0.8441299581423162\n"
     ]
    }
   ],
   "source": [
    "clf = LogisticRegression(max_iter=200, random_state=52)\n",
    "\n",
    "clf.fit(X_train_cv_df, y_train)\n",
    "pred_train_cv_df = clf.predict(X_train_cv_df)\n",
    "print('X_train_cv_df')\n",
    "print(accuracy_score(y_train, pred_train_cv_df))\n",
    "\n",
    "pred_test_cv_df = clf.predict(X_test_cv_df)\n",
    "print('X_test_cv_df')\n",
    "print(accuracy_score(y_test, pred_test_cv_df))"
   ]
  },
  {
   "cell_type": "markdown",
   "metadata": {
    "id": "7dHsGlDRYUQt"
   },
   "source": [
    "**Ответ:** качество почти не изменилось, признак - лишний"
   ]
  }
 ],
 "metadata": {
  "colab": {
   "provenance": []
  },
  "kernelspec": {
   "display_name": "Python 3 (ipykernel)",
   "language": "python",
   "name": "python3"
  },
  "language_info": {
   "codemirror_mode": {
    "name": "ipython",
    "version": 3
   },
   "file_extension": ".py",
   "mimetype": "text/x-python",
   "name": "python",
   "nbconvert_exporter": "python",
   "pygments_lexer": "ipython3",
   "version": "3.12.4"
  }
 },
 "nbformat": 4,
 "nbformat_minor": 4
}
